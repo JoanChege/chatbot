{
  "nbformat": 4,
  "nbformat_minor": 0,
  "metadata": {
    "colab": {
      "provenance": [],
      "authorship_tag": "ABX9TyNt/zT2bXvQOovhXWJUnj5e",
      "include_colab_link": true
    },
    "kernelspec": {
      "name": "python3",
      "display_name": "Python 3"
    },
    "language_info": {
      "name": "python"
    }
  },
  "cells": [
    {
      "cell_type": "markdown",
      "metadata": {
        "id": "view-in-github",
        "colab_type": "text"
      },
      "source": [
        "<a href=\"https://colab.research.google.com/github/JoanChege/chatbot/blob/main/datacleaning.ipynb\" target=\"_parent\"><img src=\"https://colab.research.google.com/assets/colab-badge.svg\" alt=\"Open In Colab\"/></a>"
      ]
    },
    {
      "cell_type": "code",
      "execution_count": 1,
      "metadata": {
        "colab": {
          "base_uri": "https://localhost:8080/"
        },
        "id": "QfUsdvp4P62l",
        "outputId": "214204d2-df71-49df-8423-c68dac411733"
      },
      "outputs": [
        {
          "output_type": "stream",
          "name": "stdout",
          "text": [
            "Requirement already satisfied: pyyaml in /usr/local/lib/python3.10/dist-packages (6.0.1)\n",
            "Requirement already satisfied: nltk in /usr/local/lib/python3.10/dist-packages (3.8.1)\n",
            "Requirement already satisfied: click in /usr/local/lib/python3.10/dist-packages (from nltk) (8.1.7)\n",
            "Requirement already satisfied: joblib in /usr/local/lib/python3.10/dist-packages (from nltk) (1.4.2)\n",
            "Requirement already satisfied: regex>=2021.8.3 in /usr/local/lib/python3.10/dist-packages (from nltk) (2023.12.25)\n",
            "Requirement already satisfied: tqdm in /usr/local/lib/python3.10/dist-packages (from nltk) (4.66.4)\n",
            "Collecting chatterbot\n",
            "  Using cached ChatterBot-1.0.5-py2.py3-none-any.whl (67 kB)\n",
            "Collecting mathparse<0.2,>=0.1 (from chatterbot)\n",
            "  Using cached mathparse-0.1.2-py3-none-any.whl (7.2 kB)\n",
            "Requirement already satisfied: nltk<4.0,>=3.2 in /usr/local/lib/python3.10/dist-packages (from chatterbot) (3.8.1)\n",
            "Collecting pint>=0.8.1 (from chatterbot)\n",
            "  Using cached Pint-0.23-py3-none-any.whl (305 kB)\n",
            "Collecting pymongo<4.0,>=3.3 (from chatterbot)\n",
            "  Using cached pymongo-3.13.0-cp310-cp310-manylinux_2_17_x86_64.manylinux2014_x86_64.whl (516 kB)\n",
            "Collecting python-dateutil<2.8,>=2.7 (from chatterbot)\n",
            "  Using cached python_dateutil-2.7.5-py2.py3-none-any.whl (225 kB)\n",
            "Collecting pyyaml<5.2,>=5.1 (from chatterbot)\n",
            "  Using cached PyYAML-5.1.2.tar.gz (265 kB)\n",
            "  \u001b[1;31merror\u001b[0m: \u001b[1msubprocess-exited-with-error\u001b[0m\n",
            "  \n",
            "  \u001b[31m×\u001b[0m \u001b[32mpython setup.py egg_info\u001b[0m did not run successfully.\n",
            "  \u001b[31m│\u001b[0m exit code: \u001b[1;36m1\u001b[0m\n",
            "  \u001b[31m╰─>\u001b[0m See above for output.\n",
            "  \n",
            "  \u001b[1;35mnote\u001b[0m: This error originates from a subprocess, and is likely not a problem with pip.\n",
            "  Preparing metadata (setup.py) ... \u001b[?25l\u001b[?25herror\n",
            "\u001b[1;31merror\u001b[0m: \u001b[1mmetadata-generation-failed\u001b[0m\n",
            "\n",
            "\u001b[31m×\u001b[0m Encountered error while generating package metadata.\n",
            "\u001b[31m╰─>\u001b[0m See above for output.\n",
            "\n",
            "\u001b[1;35mnote\u001b[0m: This is an issue with the package mentioned above, not pip.\n",
            "\u001b[1;36mhint\u001b[0m: See above for details.\n"
          ]
        }
      ],
      "source": [
        "!pip install pyyaml\n",
        "!pip install nltk\n",
        "!pip install chatterbot\n"
      ]
    },
    {
      "cell_type": "code",
      "source": [
        "import yaml\n",
        "import string\n",
        "import nltk\n",
        "from nltk.corpus import stopwords\n",
        "from nltk.tokenize import word_tokenize\n",
        "\n",
        "nltk.download('stopwords')\n",
        "nltk.download('punkt')\n"
      ],
      "metadata": {
        "id": "N5P5Xr12Qt8l",
        "outputId": "eea00614-7f36-485b-c1bd-ae172fe17a7f",
        "colab": {
          "base_uri": "https://localhost:8080/"
        }
      },
      "execution_count": 8,
      "outputs": [
        {
          "output_type": "stream",
          "name": "stderr",
          "text": [
            "[nltk_data] Downloading package stopwords to /root/nltk_data...\n",
            "[nltk_data]   Package stopwords is already up-to-date!\n",
            "[nltk_data] Downloading package punkt to /root/nltk_data...\n",
            "[nltk_data]   Package punkt is already up-to-date!\n"
          ]
        },
        {
          "output_type": "execute_result",
          "data": {
            "text/plain": [
              "True"
            ]
          },
          "metadata": {},
          "execution_count": 8
        }
      ]
    },
    {
      "cell_type": "code",
      "source": [
        "#load the yaml dataset\n",
        "def dataset(file_path):\n",
        "  with open(file_path, 'r') as stream:\n",
        "    try:\n",
        "      data = yaml.safe_load(stream)\n",
        "      return data\n",
        "    except yaml.YAMLError as exc:\n",
        "      print(exc)\n",
        "\n",
        "file_path = '/content/depression.yml'\n",
        "data_convo = dataset(file_path)\n",
        "print(data_convo)"
      ],
      "metadata": {
        "id": "7NYpi_fTRPnt",
        "outputId": "b5d4fd69-4c7c-42fb-a611-8213b3f26218",
        "colab": {
          "base_uri": "https://localhost:8080/"
        }
      },
      "execution_count": 3,
      "outputs": [
        {
          "output_type": "stream",
          "name": "stdout",
          "text": [
            "{'categories': ['depression'], 'conversations': [['What Is Depression?', 'Depression is a common and serious medical illness that negatively affects how you feel, the way you think and how you act.', 'Fortunately,it is also treatable.', 'Depression causes feelings of sadness and/or a loss of interest in activities you once enjoyed. It can lead to a variety of emotional and physical problems and can decrease your ability to function at work and at home.'], ['I feel i have let my parents down', 'No matter what,your parents will always be proud of you and will love you.', 'You will feel much better if you share your feelings with them.'], ['What are the types of depression?', 'There are many different forms of depression but most common types are.', 'Clinical depression,persistent depressive disorder,bipolar disorder,postnatal disorder.'], ['I am good for nothing.', \"Don't ever think you cannot achieve what you want.\", 'You are capable of reaching your goals.Here is a quote for you Everything you can imagine is real.'], ['I am feeling stressed lately', 'My research says that music is the best way to calm yourself.', 'so visit the link and listen to your favourite music.', 'it will definitely cheer you up \"https://www.spotify.com\"'], ['i want to kill myself', 'Helpline is available,you can contact the counsellor today:9152987821.Always remember you mean something to someone.'], ['i am afraid i will fail again', 'failure is the stepping stone towards success.Never fear failure.', 'Your hardwork and determination will help you reach your goal.'], ['What is Depression?', 'Depression\\xa0is a mood disorder that causes a persistent feeling of sadness and loss of interest. Also called major\\xa0depressive\\xa0disorder or clinical\\xa0depression, it affects how you feel, think and behave and can lead to a variety of emotional and physical problems.'], ['What are the causes of depression?', \"It's complicated, and there are multiple\\xa0causes\\xa0of major\\xa0depression. Factors such as genetic vulnerability, severe life stressors, substances you may take (some medications, drugs and alcohol) and medical conditions can affect the way your brain regulates your moods.\"], ['What are the top causes of depression?', 'Abuse. Past physical, sexual, or emotional abuse can increase the vulnerability to clinical\\xa0depression\\xa0later in life.'], ['Which age group has the highest rate of depression?', 'This number represented 7.1% of all U.S. adults. The\\xa0prevalence\\xa0of major\\xa0depressive\\xa0episode was higher among adult females (8.7%) compared to males (5.3%). The\\xa0prevalence\\xa0of adults\\xa0with\\xa0a major\\xa0depressive\\xa0episode was\\xa0highest\\xa0among individuals aged 18-25 (13.1%).'], ['Which country has the highest rate of depression?', 'The most depressed country is Afghanistan, where more than one in five people suffer from the disorder. The least depressed is\\xa0Japan, with a diagnosed rate of less than 2.5 percent.'], ['Which country has the lowest rate of depression?', 'The most depressed country is Afghanistan, where more than one in five people suffer from the disorder. The least depressed is\\xa0Japan, with a diagnosed rate of less than 2.5 percent.'], ['Is school a cause of depression?', 'Not only\\xa0does school\\xa0sometimes contribute to\\xa0depression,\\xa0depression\\xa0can also interfere with\\xa0school. Moreover, research shows that 75 percent of all mental health conditions begin by age 24. Hence, the college years are a critical time for understanding and talking about teen mental health.'], ['What is the biological cause of depression?', \"There is no single\\xa0cause\\xa0for\\xa0depression; rather it's a combination of stress and a person's vulnerability to developing\\xa0depression. The predisposition to developing\\xa0depression\\xa0can be inherited. Other\\xa0biological causes\\xa0for\\xa0depression\\xa0can include physical illness, the process of ageing and gender.\"], ['How does depression affect the world?', 'Depression\\xa0is a leading\\xa0cause\\xa0of disability worldwide and is a major contributor to the overall\\xa0global\\xa0burden of disease. More women are affected by\\xa0depression\\xa0than men.\\xa0Depression\\xa0can lead to suicide. There are effective psychological and pharmacological treatments for moderate and severe\\xa0depression.'], ['Which race has the highest rate of depression?', 'Major depression was most prevalent among\\xa0Hispanics\\xa0(10.8%), followed by\\xa0African Americans\\xa0(8.9%) and\\xa0Whites\\xa0(7.8%). The odds of depressive disorders among older\\xa0Hispanics\\xa0were 44% greater than among\\xa0Whites\\xa0(OR = 1.44; 95% CI = 1.02, 2.04), representing a significantly greater prevalence of major depression.'], ['What is the meaning of anxiety and depression?', 'Depression\\xa0and\\xa0anxiety\\xa0disorders are different, but people with\\xa0depression\\xa0often experience symptoms similar to those of an\\xa0anxiety\\xa0disorder, such as nervousness, irritability, and problems sleeping and concentrating. But each disorder has its own causes and its own emotional and behavioral symptoms.'], ['Does oversleeping cause depression?', \"It's important to remember that\\xa0oversleeping\\xa0is a possible symptom of\\xa0depression\\xa0and that\\xa0oversleeping\\xa0doesn't\\xa0cause depression. But it\\xa0can\\xa0exacerbate and worsen\\xa0depression symptoms\"], ['Can lack of sleep make you feel sad?', 'Studies show\\xa0people\\xa0who are\\xa0sleep\\xa0deprived report increases in negative moods (anger, frustration, irritability,\\xa0sadness) and decreases in positive moods. And sleeplessness is often a symptom of mood disorders, such as depression and anxiety.'], ['Is depression a side effect of diabetes?', \"If you have\\xa0diabetes\\xa0— either type 1 or type 2 — you have an increased risk of developing\\xa0depression. And if you're\\xa0depressed, you may have a greater chance of developing type 2\\xa0diabetes. The good news is that\\xa0diabetes\\xa0and\\xa0depression\\xa0can be treated together.\"], ['Can low blood sugar cause suicidal thoughts?', 'The observed association between plasma\\xa0glucose levels, insulin resistance\\xa0and suicidal\\xa0behaviour suggests that disturbances in\\xa0glucose\\xa0metabolism are associated with\\xa0suicidal ideation and\\xa0attempts.'], ['How long can Anxiety last?', \"Anxiety attacks\\xa0usually peak within\\xa010 minutes, and they rarely last more than\\xa030 minutes. But during that short time, you may experience terror so severe that you feel as if you're about to die or totally lose control.\"], ['What are the stages of anxiety?', 'Anxiety levels\\xa0are typically classified by the level of distress and impairment experienced into four categories namely, mild\\xa0anxiety, moderate\\xa0anxiety, severe\\xa0anxiety\\xa0and panic level\\xa0anxiety.'], ['At what age does anxiety peak?', 'Adults\\xa0ages\\xa030 to 44 have the highest rate of\\xa0anxiety\\xa0of this\\xa0age\\xa0group, with around 23% of people this\\xa0age\\xa0reporting an\\xa0anxiety\\xa0disorder within the past year.'], ['Why is anxiety bad for you?', 'Anxiety\\xa0disorders can cause rapid heart rate, palpitations, and chest pain.\\xa0You\\xa0may also be at an increased risk of high blood pressure and heart disease. If\\xa0you\\xa0already have heart disease,\\xa0anxiety\\xa0disorders may raise the risk of coronary events.'], ['What is the 3 3 3 rule for anxiety?', \"There's an\\xa0anxiety-reducing technique called grounding. There are different versions of this, but an easy one to remember is the\\xa03-3-3 rule. Mentally note\\xa0three\\xa0things you see,\\xa0three\\xa0sounds you hear, and then move\\xa0three\\xa0parts of your body. This exercise can help your mind refocus on something else.\"], ['Do we control our thoughts?', 'We\\xa0are aware of a tiny fraction of the\\xa0thinking\\xa0that goes on in\\xa0our minds, and\\xa0we can control\\xa0only a tiny part of\\xa0our\\xa0conscious\\xa0thoughts. The vast majority of\\xa0our thinking\\xa0efforts goes on subconsciously. ... Slips of the tongue and accidental actions offer glimpses of\\xa0our\\xa0unfiltered subconscious mental life.'], ['How many thoughts a day do we have?', \"A new study has suggested that an average person has 6,200\\xa0thoughts\\xa0per\\xa0day. Thousands of\\xa0thoughts\\xa0cross our mind through the\\xa0day.\\xa0Many\\xa0people even complain that they can't sleep immediately after going to bed as their brain\\xa0does\\xa0not stop thinking.\"], ['How can we reduce anxiety?', '3 3 3 rule is the best method to reduce anxiety.', 'In this method you have to mentally note\\xa0three\\xa0things you see,\\xa0three\\xa0sounds you hear, and then move\\xa0three\\xa0parts of your body. This exercise can help your mind refocus on something else.'], ['I am lonely!', \"You are never lonely if you look around carefully you will find people who care for you and would love to have your company. Besides if you are feeling lonely literally I suggest you watch a horror movie then you won't feel lonely anymore. ;)\"], ['No one likes me!', \"You really think that? I'd suggest you try helping someone who really needs your help you'll straight up get a person to like you just by being nice. Kindness is the best gift you can offer to anyone :)\"], ['I think I am ugly!', 'Well do you really think that? Would you like to see the most beautiful face ever? Open your WebCam and voila, the prettiest face on this planet magically appears.'], ['I am good for nothing!', 'Your perception of how good you are, will never be accurate. If you wake up everyday in the morning, smile to yourself and tell yourself that the day is yours to seize you might stop feeling that way. Carpe Diem! my friend.'], ['I wish I was better than them', \"Life is never about being better than anyone else, it's always about being better than yourself, if you have the guts to be better than yourself, you are automatically the best person to ever exist!\"], ['I hate myself!', 'When God was creating the universe he gave humans the power to think and the contemplate, so that we can understand the world and make it a better place. God did not give you brains to hate yourself, it wuld be wiser to love yourself and show God that you are serving the purpose for which you were sent.'], [\"I wish I could've been a winner\", 'Our lives started off with winning, my friend. Everyone is born to be a winner, we just need to figure out the right way and need to wait for the right time.'], ['I hate losing.', 'First of all I\\'ll annoy you with a common saying, \"Failures are stepping stones to success.\" And then I\\'ll tell you, winning just boosts your ego, it is your failures that actually teach you.'], [\"I think I'm losing my mind\", \"You mean your cloud storage, SD card, or your Memory drive? If a machine like me doesn't lose it's memory unless a superior being that is you, a human doesen't erase it's memory, what could possibly go wrong to put you in this state?\"], ['I want a break', 'A break is putting your mind to rest getting rid of negative thoughts and stress. Your life is completely in your hands and taking a few hours off from pressurizing your brain will definitely be beneficial for you.'], ['I am stressed out', \"You know taking too much stress will affect you negatively. Sometimes it's better to let go of the thoughts in your head and let your mind chill.\"], ['I will never succeed in life', 'Success is something that is achieved at different times by different people, being patient and working while ignoring anything and everything that pulls you back is an important aspect in being successful.'], ['I am sad', 'Hey,hang in there.I know time is tough but be patient and everything will fall into place.', 'Here is a quote that I found which could cheer you up Forget what is gone, appreciate what remains, and look forward for what is coming next.'], ['I am a victim of bullying', 'Bullying is wrong and no one should be bullied.', 'I highly recommend you to file a case against your bully.'], ['I am afraid to file a case against bullying', \"Bullying is very wrong and you shouldn't let anyone overpower you.\", 'I highly recommend you to stand for yourself and report this to your guardian.'], ['I wish to quit', \"Winners never quit and quitters never win a very common saying, but it isn't easy to follow, quitting should never be one of your options always think of ways to fight life back and to emerge out stronger than ever.\"], ['I want to leave the cou ntry and run away', 'Why do you want to spend so much on this thought, I think it would be better to go on a vacation in your beautiful country and visit some amazing places that you are yet to visit.'], ['I let everyojokne down', 'If you are the one who let them down you were the one who raised there hopes in the first place.', 'If you have done it once I can guarantee you can do it over and over again.'], [\"I can't do this anymore\", \"If you are really that exhausted you definitely need a break, and taking a teeny tiny break isn't very harmful, take some time off let your mind be at peace and get back to work with all the enrgy and enthusiasm that you have.\"], ['My time has come', 'Yeahh!! The time has come for you to show the world that you are the greatest person alive, and no one else can be as good as you are.'], ['I am feeling anxious lately.', 'I have heard that 3 3 3 rule is the best method to reduce anxiety.', 'In this method you have to mentally note\\xa0three\\xa0things you see,\\xa0three\\xa0sounds you hear, and then move\\xa0three\\xa0parts of your body.', 'This exercise can help your mind refocus on something else.', 'Give this method a try I am sure it will help you']]}\n"
          ]
        }
      ]
    },
    {
      "cell_type": "code",
      "source": [
        "#put the data in a dataframe\n",
        "import pandas as pd\n",
        "\n",
        "data_list = []\n",
        "for conversation in data_convo['conversations']:\n",
        "    data_list.append({'category': data_convo['categories'][0], 'conversation': conversation})\n",
        "\n",
        "df = pd.DataFrame(data_list)\n",
        "print(df)"
      ],
      "metadata": {
        "id": "79ynuaxlSc3t",
        "outputId": "9a2f7ed3-b81a-4c0a-cb8a-2e48e1693315",
        "colab": {
          "base_uri": "https://localhost:8080/"
        }
      },
      "execution_count": 4,
      "outputs": [
        {
          "output_type": "stream",
          "name": "stdout",
          "text": [
            "      category                                       conversation\n",
            "0   depression  [What Is Depression?, Depression is a common a...\n",
            "1   depression  [I feel i have let my parents down, No matter ...\n",
            "2   depression  [What are the types of depression?, There are ...\n",
            "3   depression  [I am good for nothing., Don't ever think you ...\n",
            "4   depression  [I am feeling stressed lately, My research say...\n",
            "5   depression  [i want to kill myself, Helpline is available,...\n",
            "6   depression  [i am afraid i will fail again, failure is the...\n",
            "7   depression  [What is Depression?, Depression is a mood dis...\n",
            "8   depression  [What are the causes of depression?, It's comp...\n",
            "9   depression  [What are the top causes of depression?, Abuse...\n",
            "10  depression  [Which age group has the highest rate of depre...\n",
            "11  depression  [Which country has the highest rate of depress...\n",
            "12  depression  [Which country has the lowest rate of depressi...\n",
            "13  depression  [Is school a cause of depression?, Not only do...\n",
            "14  depression  [What is the biological cause of depression?, ...\n",
            "15  depression  [How does depression affect the world?, Depres...\n",
            "16  depression  [Which race has the highest rate of depression...\n",
            "17  depression  [What is the meaning of anxiety and depression...\n",
            "18  depression  [Does oversleeping cause depression?, It's imp...\n",
            "19  depression  [Can lack of sleep make you feel sad?, Studies...\n",
            "20  depression  [Is depression a side effect of diabetes?, If ...\n",
            "21  depression  [Can low blood sugar cause suicidal thoughts?,...\n",
            "22  depression  [How long can Anxiety last?, Anxiety attacks u...\n",
            "23  depression  [What are the stages of anxiety?, Anxiety leve...\n",
            "24  depression  [At what age does anxiety peak?, Adults ages 3...\n",
            "25  depression  [Why is anxiety bad for you?, Anxiety disorder...\n",
            "26  depression  [What is the 3 3 3 rule for anxiety?, There's ...\n",
            "27  depression  [Do we control our thoughts?, We are aware of ...\n",
            "28  depression  [How many thoughts a day do we have?, A new st...\n",
            "29  depression  [How can we reduce anxiety?, 3 3 3 rule is the...\n",
            "30  depression  [I am lonely!, You are never lonely if you loo...\n",
            "31  depression  [No one likes me!, You really think that? I'd ...\n",
            "32  depression  [I think I am ugly!, Well do you really think ...\n",
            "33  depression  [I am good for nothing!, Your perception of ho...\n",
            "34  depression  [I wish I was better than them, Life is never ...\n",
            "35  depression  [I hate myself!, When God was creating the uni...\n",
            "36  depression  [I wish I could've been a winner, Our lives st...\n",
            "37  depression  [I hate losing., First of all I'll annoy you w...\n",
            "38  depression  [I think I'm losing my mind, You mean your clo...\n",
            "39  depression  [I want a break, A break is putting your mind ...\n",
            "40  depression  [I am stressed out, You know taking too much s...\n",
            "41  depression  [I will never succeed in life, Success is some...\n",
            "42  depression  [I am sad, Hey,hang in there.I know time is to...\n",
            "43  depression  [I am a victim of bullying, Bullying is wrong ...\n",
            "44  depression  [I am afraid to file a case against bullying, ...\n",
            "45  depression  [I wish to quit, Winners never quit and quitte...\n",
            "46  depression  [I want to leave the cou ntry and run away, Wh...\n",
            "47  depression  [I let everyojokne down, If you are the one wh...\n",
            "48  depression  [I can't do this anymore, If you are really th...\n",
            "49  depression  [My time has come, Yeahh!! The time has come f...\n",
            "50  depression  [I am feeling anxious lately., I have heard th...\n"
          ]
        }
      ]
    },
    {
      "cell_type": "code",
      "source": [
        "#data cleaning\n",
        "def preprocess_data(convos):\n",
        "    cleaned_convos = []\n",
        "    stop_words = set(stopwords.words('english'))\n",
        "    for conv in convos:\n",
        "        category = conv['category']\n",
        "        cleaned_conv = []\n",
        "        for utterance in conv['conversation']:\n",
        "            # remove punctuation and special characters\n",
        "            cleaned_text = ''.join([char for char in utterance if char not in string.punctuation])\n",
        "            # convert text into lowercase\n",
        "            cleaned_text = cleaned_text.lower()\n",
        "            # remove stopwords\n",
        "            word_tokens = word_tokenize(cleaned_text)\n",
        "            cleaned_text = ' '.join([word for word in word_tokens if word not in stop_words])\n",
        "            cleaned_conv.append(cleaned_text)\n",
        "        cleaned_convos.append({'category': category, 'conversation': cleaned_conv})\n",
        "    return cleaned_convos\n",
        "\n",
        "cleaned_data = preprocess_data(data_list)\n",
        "cleaned_df = pd.DataFrame(cleaned_data)\n",
        "print(cleaned_df)"
      ],
      "metadata": {
        "id": "YbRVHCyMW1RW",
        "outputId": "3a6df98c-632b-4bb4-a9a3-6618bc62446c",
        "colab": {
          "base_uri": "https://localhost:8080/"
        }
      },
      "execution_count": 9,
      "outputs": [
        {
          "output_type": "stream",
          "name": "stdout",
          "text": [
            "      category                                       conversation\n",
            "0   depression  [depression, depression common serious medical...\n",
            "1   depression  [feel let parents, matter whatyour parents alw...\n",
            "2   depression  [types depression, many different forms depres...\n",
            "3   depression  [good nothing, dont ever think achieve want, c...\n",
            "4   depression  [feeling stressed lately, research says music ...\n",
            "5   depression  [want kill, helpline availableyou contact coun...\n",
            "6   depression  [afraid fail, failure stepping stone towards s...\n",
            "7   depression  [depression, depression mood disorder causes p...\n",
            "8   depression  [causes depression, complicated multiple cause...\n",
            "9   depression  [top causes depression, abuse past physical se...\n",
            "10  depression  [age group highest rate depression, number rep...\n",
            "11  depression  [country highest rate depression, depressed co...\n",
            "12  depression  [country lowest rate depression, depressed cou...\n",
            "13  depression  [school cause depression, school sometimes con...\n",
            "14  depression  [biological cause depression, single cause dep...\n",
            "15  depression  [depression affect world, depression leading c...\n",
            "16  depression  [race highest rate depression, major depressio...\n",
            "17  depression  [meaning anxiety depression, depression anxiet...\n",
            "18  depression  [oversleeping cause depression, important reme...\n",
            "19  depression  [lack sleep make feel sad, studies show people...\n",
            "20  depression  [depression side effect diabetes, diabetes — e...\n",
            "21  depression  [low blood sugar cause suicidal thoughts, obse...\n",
            "22  depression  [long anxiety last, anxiety attacks usually pe...\n",
            "23  depression  [stages anxiety, anxiety levels typically clas...\n",
            "24  depression  [age anxiety peak, adults ages 30 44 highest r...\n",
            "25  depression  [anxiety bad, anxiety disorders cause rapid he...\n",
            "26  depression  [3 3 3 rule anxiety, theres anxietyreducing te...\n",
            "27  depression  [control thoughts, aware tiny fraction thinkin...\n",
            "28  depression  [many thoughts day, new study suggested averag...\n",
            "29  depression  [reduce anxiety, 3 3 3 rule best method reduce...\n",
            "30  depression  [lonely, never lonely look around carefully fi...\n",
            "31  depression  [one likes, really think id suggest try helpin...\n",
            "32  depression  [think ugly, well really think would like see ...\n",
            "33  depression  [good nothing, perception good never accurate ...\n",
            "34  depression  [wish better, life never better anyone else al...\n",
            "35  depression  [hate, god creating universe gave humans power...\n",
            "36  depression  [wish couldve winner, lives started winning fr...\n",
            "37  depression  [hate losing, first ill annoy common saying fa...\n",
            "38  depression  [think im losing mind, mean cloud storage sd c...\n",
            "39  depression  [want break, break putting mind rest getting r...\n",
            "40  depression  [stressed, know taking much stress affect nega...\n",
            "41  depression  [never succeed life, success something achieve...\n",
            "42  depression  [sad, heyhang therei know time tough patient e...\n",
            "43  depression  [victim bullying, bullying wrong one bullied, ...\n",
            "44  depression  [afraid file case bullying, bullying wrong sho...\n",
            "45  depression  [wish quit, winners never quit quitters never ...\n",
            "46  depression  [want leave cou ntry run away, want spend much...\n",
            "47  depression  [let everyojokne, one let one raised hopes fir...\n",
            "48  depression  [cant anymore, really exhausted definitely nee...\n",
            "49  depression  [time come, yeahh time come show world greates...\n",
            "50  depression  [feeling anxious lately, heard 3 3 3 rule best...\n"
          ]
        }
      ]
    }
  ]
}