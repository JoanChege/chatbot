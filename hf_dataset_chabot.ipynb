{
  "nbformat": 4,
  "nbformat_minor": 0,
  "metadata": {
    "colab": {
      "provenance": [],
      "authorship_tag": "ABX9TyN6bBEjeYt3sh5YJDf/QnYo",
      "include_colab_link": true
    },
    "kernelspec": {
      "name": "python3",
      "display_name": "Python 3"
    },
    "language_info": {
      "name": "python"
    },
    "widgets": {
      "application/vnd.jupyter.widget-state+json": {
        "5db0d899fd884a4185f944094b16e97a": {
          "model_module": "@jupyter-widgets/controls",
          "model_name": "HBoxModel",
          "model_module_version": "1.5.0",
          "state": {
            "_dom_classes": [],
            "_model_module": "@jupyter-widgets/controls",
            "_model_module_version": "1.5.0",
            "_model_name": "HBoxModel",
            "_view_count": null,
            "_view_module": "@jupyter-widgets/controls",
            "_view_module_version": "1.5.0",
            "_view_name": "HBoxView",
            "box_style": "",
            "children": [
              "IPY_MODEL_bde9eb13dbf342ad802f15e6657b006c",
              "IPY_MODEL_04a01bd8fc5844b2ab826084009dc75a",
              "IPY_MODEL_236daf7703454e06bbf49989ef5ff39d"
            ],
            "layout": "IPY_MODEL_5d546fd08bf14bfc9d31d8883579afde"
          }
        },
        "bde9eb13dbf342ad802f15e6657b006c": {
          "model_module": "@jupyter-widgets/controls",
          "model_name": "HTMLModel",
          "model_module_version": "1.5.0",
          "state": {
            "_dom_classes": [],
            "_model_module": "@jupyter-widgets/controls",
            "_model_module_version": "1.5.0",
            "_model_name": "HTMLModel",
            "_view_count": null,
            "_view_module": "@jupyter-widgets/controls",
            "_view_module_version": "1.5.0",
            "_view_name": "HTMLView",
            "description": "",
            "description_tooltip": null,
            "layout": "IPY_MODEL_7e003fd85f3647b6bfe8e4d00b5c7171",
            "placeholder": "​",
            "style": "IPY_MODEL_15e094666dfc4b54b069ceef2bed197d",
            "value": "Downloading readme: 100%"
          }
        },
        "04a01bd8fc5844b2ab826084009dc75a": {
          "model_module": "@jupyter-widgets/controls",
          "model_name": "FloatProgressModel",
          "model_module_version": "1.5.0",
          "state": {
            "_dom_classes": [],
            "_model_module": "@jupyter-widgets/controls",
            "_model_module_version": "1.5.0",
            "_model_name": "FloatProgressModel",
            "_view_count": null,
            "_view_module": "@jupyter-widgets/controls",
            "_view_module_version": "1.5.0",
            "_view_name": "ProgressView",
            "bar_style": "success",
            "description": "",
            "description_tooltip": null,
            "layout": "IPY_MODEL_80f91a89e2e948f1883ab4d17eb576dc",
            "max": 2816,
            "min": 0,
            "orientation": "horizontal",
            "style": "IPY_MODEL_06924c852f30488e8c08a7f0ccb470f1",
            "value": 2816
          }
        },
        "236daf7703454e06bbf49989ef5ff39d": {
          "model_module": "@jupyter-widgets/controls",
          "model_name": "HTMLModel",
          "model_module_version": "1.5.0",
          "state": {
            "_dom_classes": [],
            "_model_module": "@jupyter-widgets/controls",
            "_model_module_version": "1.5.0",
            "_model_name": "HTMLModel",
            "_view_count": null,
            "_view_module": "@jupyter-widgets/controls",
            "_view_module_version": "1.5.0",
            "_view_name": "HTMLView",
            "description": "",
            "description_tooltip": null,
            "layout": "IPY_MODEL_2d3fda47037b4b1e8898289c42cad811",
            "placeholder": "​",
            "style": "IPY_MODEL_8d1eb2947d65499c9a780362f26dece3",
            "value": " 2.82k/2.82k [00:00&lt;00:00, 61.9kB/s]"
          }
        },
        "5d546fd08bf14bfc9d31d8883579afde": {
          "model_module": "@jupyter-widgets/base",
          "model_name": "LayoutModel",
          "model_module_version": "1.2.0",
          "state": {
            "_model_module": "@jupyter-widgets/base",
            "_model_module_version": "1.2.0",
            "_model_name": "LayoutModel",
            "_view_count": null,
            "_view_module": "@jupyter-widgets/base",
            "_view_module_version": "1.2.0",
            "_view_name": "LayoutView",
            "align_content": null,
            "align_items": null,
            "align_self": null,
            "border": null,
            "bottom": null,
            "display": null,
            "flex": null,
            "flex_flow": null,
            "grid_area": null,
            "grid_auto_columns": null,
            "grid_auto_flow": null,
            "grid_auto_rows": null,
            "grid_column": null,
            "grid_gap": null,
            "grid_row": null,
            "grid_template_areas": null,
            "grid_template_columns": null,
            "grid_template_rows": null,
            "height": null,
            "justify_content": null,
            "justify_items": null,
            "left": null,
            "margin": null,
            "max_height": null,
            "max_width": null,
            "min_height": null,
            "min_width": null,
            "object_fit": null,
            "object_position": null,
            "order": null,
            "overflow": null,
            "overflow_x": null,
            "overflow_y": null,
            "padding": null,
            "right": null,
            "top": null,
            "visibility": null,
            "width": null
          }
        },
        "7e003fd85f3647b6bfe8e4d00b5c7171": {
          "model_module": "@jupyter-widgets/base",
          "model_name": "LayoutModel",
          "model_module_version": "1.2.0",
          "state": {
            "_model_module": "@jupyter-widgets/base",
            "_model_module_version": "1.2.0",
            "_model_name": "LayoutModel",
            "_view_count": null,
            "_view_module": "@jupyter-widgets/base",
            "_view_module_version": "1.2.0",
            "_view_name": "LayoutView",
            "align_content": null,
            "align_items": null,
            "align_self": null,
            "border": null,
            "bottom": null,
            "display": null,
            "flex": null,
            "flex_flow": null,
            "grid_area": null,
            "grid_auto_columns": null,
            "grid_auto_flow": null,
            "grid_auto_rows": null,
            "grid_column": null,
            "grid_gap": null,
            "grid_row": null,
            "grid_template_areas": null,
            "grid_template_columns": null,
            "grid_template_rows": null,
            "height": null,
            "justify_content": null,
            "justify_items": null,
            "left": null,
            "margin": null,
            "max_height": null,
            "max_width": null,
            "min_height": null,
            "min_width": null,
            "object_fit": null,
            "object_position": null,
            "order": null,
            "overflow": null,
            "overflow_x": null,
            "overflow_y": null,
            "padding": null,
            "right": null,
            "top": null,
            "visibility": null,
            "width": null
          }
        },
        "15e094666dfc4b54b069ceef2bed197d": {
          "model_module": "@jupyter-widgets/controls",
          "model_name": "DescriptionStyleModel",
          "model_module_version": "1.5.0",
          "state": {
            "_model_module": "@jupyter-widgets/controls",
            "_model_module_version": "1.5.0",
            "_model_name": "DescriptionStyleModel",
            "_view_count": null,
            "_view_module": "@jupyter-widgets/base",
            "_view_module_version": "1.2.0",
            "_view_name": "StyleView",
            "description_width": ""
          }
        },
        "80f91a89e2e948f1883ab4d17eb576dc": {
          "model_module": "@jupyter-widgets/base",
          "model_name": "LayoutModel",
          "model_module_version": "1.2.0",
          "state": {
            "_model_module": "@jupyter-widgets/base",
            "_model_module_version": "1.2.0",
            "_model_name": "LayoutModel",
            "_view_count": null,
            "_view_module": "@jupyter-widgets/base",
            "_view_module_version": "1.2.0",
            "_view_name": "LayoutView",
            "align_content": null,
            "align_items": null,
            "align_self": null,
            "border": null,
            "bottom": null,
            "display": null,
            "flex": null,
            "flex_flow": null,
            "grid_area": null,
            "grid_auto_columns": null,
            "grid_auto_flow": null,
            "grid_auto_rows": null,
            "grid_column": null,
            "grid_gap": null,
            "grid_row": null,
            "grid_template_areas": null,
            "grid_template_columns": null,
            "grid_template_rows": null,
            "height": null,
            "justify_content": null,
            "justify_items": null,
            "left": null,
            "margin": null,
            "max_height": null,
            "max_width": null,
            "min_height": null,
            "min_width": null,
            "object_fit": null,
            "object_position": null,
            "order": null,
            "overflow": null,
            "overflow_x": null,
            "overflow_y": null,
            "padding": null,
            "right": null,
            "top": null,
            "visibility": null,
            "width": null
          }
        },
        "06924c852f30488e8c08a7f0ccb470f1": {
          "model_module": "@jupyter-widgets/controls",
          "model_name": "ProgressStyleModel",
          "model_module_version": "1.5.0",
          "state": {
            "_model_module": "@jupyter-widgets/controls",
            "_model_module_version": "1.5.0",
            "_model_name": "ProgressStyleModel",
            "_view_count": null,
            "_view_module": "@jupyter-widgets/base",
            "_view_module_version": "1.2.0",
            "_view_name": "StyleView",
            "bar_color": null,
            "description_width": ""
          }
        },
        "2d3fda47037b4b1e8898289c42cad811": {
          "model_module": "@jupyter-widgets/base",
          "model_name": "LayoutModel",
          "model_module_version": "1.2.0",
          "state": {
            "_model_module": "@jupyter-widgets/base",
            "_model_module_version": "1.2.0",
            "_model_name": "LayoutModel",
            "_view_count": null,
            "_view_module": "@jupyter-widgets/base",
            "_view_module_version": "1.2.0",
            "_view_name": "LayoutView",
            "align_content": null,
            "align_items": null,
            "align_self": null,
            "border": null,
            "bottom": null,
            "display": null,
            "flex": null,
            "flex_flow": null,
            "grid_area": null,
            "grid_auto_columns": null,
            "grid_auto_flow": null,
            "grid_auto_rows": null,
            "grid_column": null,
            "grid_gap": null,
            "grid_row": null,
            "grid_template_areas": null,
            "grid_template_columns": null,
            "grid_template_rows": null,
            "height": null,
            "justify_content": null,
            "justify_items": null,
            "left": null,
            "margin": null,
            "max_height": null,
            "max_width": null,
            "min_height": null,
            "min_width": null,
            "object_fit": null,
            "object_position": null,
            "order": null,
            "overflow": null,
            "overflow_x": null,
            "overflow_y": null,
            "padding": null,
            "right": null,
            "top": null,
            "visibility": null,
            "width": null
          }
        },
        "8d1eb2947d65499c9a780362f26dece3": {
          "model_module": "@jupyter-widgets/controls",
          "model_name": "DescriptionStyleModel",
          "model_module_version": "1.5.0",
          "state": {
            "_model_module": "@jupyter-widgets/controls",
            "_model_module_version": "1.5.0",
            "_model_name": "DescriptionStyleModel",
            "_view_count": null,
            "_view_module": "@jupyter-widgets/base",
            "_view_module_version": "1.2.0",
            "_view_name": "StyleView",
            "description_width": ""
          }
        },
        "f9ad377daa974c99812b19e86a13bca7": {
          "model_module": "@jupyter-widgets/controls",
          "model_name": "HBoxModel",
          "model_module_version": "1.5.0",
          "state": {
            "_dom_classes": [],
            "_model_module": "@jupyter-widgets/controls",
            "_model_module_version": "1.5.0",
            "_model_name": "HBoxModel",
            "_view_count": null,
            "_view_module": "@jupyter-widgets/controls",
            "_view_module_version": "1.5.0",
            "_view_name": "HBoxView",
            "box_style": "",
            "children": [
              "IPY_MODEL_df27cd7db38246b8932704001430e0ec",
              "IPY_MODEL_d0e5fd38ffad4ea299c22df287eb1ee0",
              "IPY_MODEL_a2336aa98b4c420da21c2e8ffe837cca"
            ],
            "layout": "IPY_MODEL_71d780f6b4d94fba9b96a602d14eddcf"
          }
        },
        "df27cd7db38246b8932704001430e0ec": {
          "model_module": "@jupyter-widgets/controls",
          "model_name": "HTMLModel",
          "model_module_version": "1.5.0",
          "state": {
            "_dom_classes": [],
            "_model_module": "@jupyter-widgets/controls",
            "_model_module_version": "1.5.0",
            "_model_name": "HTMLModel",
            "_view_count": null,
            "_view_module": "@jupyter-widgets/controls",
            "_view_module_version": "1.5.0",
            "_view_name": "HTMLView",
            "description": "",
            "description_tooltip": null,
            "layout": "IPY_MODEL_e1a681572121438690ede8a069ca813d",
            "placeholder": "​",
            "style": "IPY_MODEL_9c8d64e845834ed6949539feafae0419",
            "value": "Downloading data: 100%"
          }
        },
        "d0e5fd38ffad4ea299c22df287eb1ee0": {
          "model_module": "@jupyter-widgets/controls",
          "model_name": "FloatProgressModel",
          "model_module_version": "1.5.0",
          "state": {
            "_dom_classes": [],
            "_model_module": "@jupyter-widgets/controls",
            "_model_module_version": "1.5.0",
            "_model_name": "FloatProgressModel",
            "_view_count": null,
            "_view_module": "@jupyter-widgets/controls",
            "_view_module_version": "1.5.0",
            "_view_name": "ProgressView",
            "bar_style": "success",
            "description": "",
            "description_tooltip": null,
            "layout": "IPY_MODEL_16b7e4270c5a4a62b1c4666c8237e0ee",
            "max": 4790520,
            "min": 0,
            "orientation": "horizontal",
            "style": "IPY_MODEL_64f6104999074aceaca2d7bff169aab3",
            "value": 4790520
          }
        },
        "a2336aa98b4c420da21c2e8ffe837cca": {
          "model_module": "@jupyter-widgets/controls",
          "model_name": "HTMLModel",
          "model_module_version": "1.5.0",
          "state": {
            "_dom_classes": [],
            "_model_module": "@jupyter-widgets/controls",
            "_model_module_version": "1.5.0",
            "_model_name": "HTMLModel",
            "_view_count": null,
            "_view_module": "@jupyter-widgets/controls",
            "_view_module_version": "1.5.0",
            "_view_name": "HTMLView",
            "description": "",
            "description_tooltip": null,
            "layout": "IPY_MODEL_db2c13ac9eec46609bee266abd85a190",
            "placeholder": "​",
            "style": "IPY_MODEL_1820135ea9cb4c87a8adea77e0b2bfd0",
            "value": " 4.79M/4.79M [00:00&lt;00:00, 12.5MB/s]"
          }
        },
        "71d780f6b4d94fba9b96a602d14eddcf": {
          "model_module": "@jupyter-widgets/base",
          "model_name": "LayoutModel",
          "model_module_version": "1.2.0",
          "state": {
            "_model_module": "@jupyter-widgets/base",
            "_model_module_version": "1.2.0",
            "_model_name": "LayoutModel",
            "_view_count": null,
            "_view_module": "@jupyter-widgets/base",
            "_view_module_version": "1.2.0",
            "_view_name": "LayoutView",
            "align_content": null,
            "align_items": null,
            "align_self": null,
            "border": null,
            "bottom": null,
            "display": null,
            "flex": null,
            "flex_flow": null,
            "grid_area": null,
            "grid_auto_columns": null,
            "grid_auto_flow": null,
            "grid_auto_rows": null,
            "grid_column": null,
            "grid_gap": null,
            "grid_row": null,
            "grid_template_areas": null,
            "grid_template_columns": null,
            "grid_template_rows": null,
            "height": null,
            "justify_content": null,
            "justify_items": null,
            "left": null,
            "margin": null,
            "max_height": null,
            "max_width": null,
            "min_height": null,
            "min_width": null,
            "object_fit": null,
            "object_position": null,
            "order": null,
            "overflow": null,
            "overflow_x": null,
            "overflow_y": null,
            "padding": null,
            "right": null,
            "top": null,
            "visibility": null,
            "width": null
          }
        },
        "e1a681572121438690ede8a069ca813d": {
          "model_module": "@jupyter-widgets/base",
          "model_name": "LayoutModel",
          "model_module_version": "1.2.0",
          "state": {
            "_model_module": "@jupyter-widgets/base",
            "_model_module_version": "1.2.0",
            "_model_name": "LayoutModel",
            "_view_count": null,
            "_view_module": "@jupyter-widgets/base",
            "_view_module_version": "1.2.0",
            "_view_name": "LayoutView",
            "align_content": null,
            "align_items": null,
            "align_self": null,
            "border": null,
            "bottom": null,
            "display": null,
            "flex": null,
            "flex_flow": null,
            "grid_area": null,
            "grid_auto_columns": null,
            "grid_auto_flow": null,
            "grid_auto_rows": null,
            "grid_column": null,
            "grid_gap": null,
            "grid_row": null,
            "grid_template_areas": null,
            "grid_template_columns": null,
            "grid_template_rows": null,
            "height": null,
            "justify_content": null,
            "justify_items": null,
            "left": null,
            "margin": null,
            "max_height": null,
            "max_width": null,
            "min_height": null,
            "min_width": null,
            "object_fit": null,
            "object_position": null,
            "order": null,
            "overflow": null,
            "overflow_x": null,
            "overflow_y": null,
            "padding": null,
            "right": null,
            "top": null,
            "visibility": null,
            "width": null
          }
        },
        "9c8d64e845834ed6949539feafae0419": {
          "model_module": "@jupyter-widgets/controls",
          "model_name": "DescriptionStyleModel",
          "model_module_version": "1.5.0",
          "state": {
            "_model_module": "@jupyter-widgets/controls",
            "_model_module_version": "1.5.0",
            "_model_name": "DescriptionStyleModel",
            "_view_count": null,
            "_view_module": "@jupyter-widgets/base",
            "_view_module_version": "1.2.0",
            "_view_name": "StyleView",
            "description_width": ""
          }
        },
        "16b7e4270c5a4a62b1c4666c8237e0ee": {
          "model_module": "@jupyter-widgets/base",
          "model_name": "LayoutModel",
          "model_module_version": "1.2.0",
          "state": {
            "_model_module": "@jupyter-widgets/base",
            "_model_module_version": "1.2.0",
            "_model_name": "LayoutModel",
            "_view_count": null,
            "_view_module": "@jupyter-widgets/base",
            "_view_module_version": "1.2.0",
            "_view_name": "LayoutView",
            "align_content": null,
            "align_items": null,
            "align_self": null,
            "border": null,
            "bottom": null,
            "display": null,
            "flex": null,
            "flex_flow": null,
            "grid_area": null,
            "grid_auto_columns": null,
            "grid_auto_flow": null,
            "grid_auto_rows": null,
            "grid_column": null,
            "grid_gap": null,
            "grid_row": null,
            "grid_template_areas": null,
            "grid_template_columns": null,
            "grid_template_rows": null,
            "height": null,
            "justify_content": null,
            "justify_items": null,
            "left": null,
            "margin": null,
            "max_height": null,
            "max_width": null,
            "min_height": null,
            "min_width": null,
            "object_fit": null,
            "object_position": null,
            "order": null,
            "overflow": null,
            "overflow_x": null,
            "overflow_y": null,
            "padding": null,
            "right": null,
            "top": null,
            "visibility": null,
            "width": null
          }
        },
        "64f6104999074aceaca2d7bff169aab3": {
          "model_module": "@jupyter-widgets/controls",
          "model_name": "ProgressStyleModel",
          "model_module_version": "1.5.0",
          "state": {
            "_model_module": "@jupyter-widgets/controls",
            "_model_module_version": "1.5.0",
            "_model_name": "ProgressStyleModel",
            "_view_count": null,
            "_view_module": "@jupyter-widgets/base",
            "_view_module_version": "1.2.0",
            "_view_name": "StyleView",
            "bar_color": null,
            "description_width": ""
          }
        },
        "db2c13ac9eec46609bee266abd85a190": {
          "model_module": "@jupyter-widgets/base",
          "model_name": "LayoutModel",
          "model_module_version": "1.2.0",
          "state": {
            "_model_module": "@jupyter-widgets/base",
            "_model_module_version": "1.2.0",
            "_model_name": "LayoutModel",
            "_view_count": null,
            "_view_module": "@jupyter-widgets/base",
            "_view_module_version": "1.2.0",
            "_view_name": "LayoutView",
            "align_content": null,
            "align_items": null,
            "align_self": null,
            "border": null,
            "bottom": null,
            "display": null,
            "flex": null,
            "flex_flow": null,
            "grid_area": null,
            "grid_auto_columns": null,
            "grid_auto_flow": null,
            "grid_auto_rows": null,
            "grid_column": null,
            "grid_gap": null,
            "grid_row": null,
            "grid_template_areas": null,
            "grid_template_columns": null,
            "grid_template_rows": null,
            "height": null,
            "justify_content": null,
            "justify_items": null,
            "left": null,
            "margin": null,
            "max_height": null,
            "max_width": null,
            "min_height": null,
            "min_width": null,
            "object_fit": null,
            "object_position": null,
            "order": null,
            "overflow": null,
            "overflow_x": null,
            "overflow_y": null,
            "padding": null,
            "right": null,
            "top": null,
            "visibility": null,
            "width": null
          }
        },
        "1820135ea9cb4c87a8adea77e0b2bfd0": {
          "model_module": "@jupyter-widgets/controls",
          "model_name": "DescriptionStyleModel",
          "model_module_version": "1.5.0",
          "state": {
            "_model_module": "@jupyter-widgets/controls",
            "_model_module_version": "1.5.0",
            "_model_name": "DescriptionStyleModel",
            "_view_count": null,
            "_view_module": "@jupyter-widgets/base",
            "_view_module_version": "1.2.0",
            "_view_name": "StyleView",
            "description_width": ""
          }
        },
        "e946bb9a2cd247d184a18e44ae4bfa90": {
          "model_module": "@jupyter-widgets/controls",
          "model_name": "HBoxModel",
          "model_module_version": "1.5.0",
          "state": {
            "_dom_classes": [],
            "_model_module": "@jupyter-widgets/controls",
            "_model_module_version": "1.5.0",
            "_model_name": "HBoxModel",
            "_view_count": null,
            "_view_module": "@jupyter-widgets/controls",
            "_view_module_version": "1.5.0",
            "_view_name": "HBoxView",
            "box_style": "",
            "children": [
              "IPY_MODEL_f1a78cf5bf3c4506bf8e38017bd494a1",
              "IPY_MODEL_25543e4ddea14608a91aaf50115ba015",
              "IPY_MODEL_a7d0f2a109774afdbb6e3872c2782163"
            ],
            "layout": "IPY_MODEL_331b8d661fd5488689fd04588e9c35b9"
          }
        },
        "f1a78cf5bf3c4506bf8e38017bd494a1": {
          "model_module": "@jupyter-widgets/controls",
          "model_name": "HTMLModel",
          "model_module_version": "1.5.0",
          "state": {
            "_dom_classes": [],
            "_model_module": "@jupyter-widgets/controls",
            "_model_module_version": "1.5.0",
            "_model_name": "HTMLModel",
            "_view_count": null,
            "_view_module": "@jupyter-widgets/controls",
            "_view_module_version": "1.5.0",
            "_view_name": "HTMLView",
            "description": "",
            "description_tooltip": null,
            "layout": "IPY_MODEL_921c28d39d3b4b4b80238093e5062ab8",
            "placeholder": "​",
            "style": "IPY_MODEL_d862df97c8844573a21ab3e61f72cccf",
            "value": "Generating train split: 100%"
          }
        },
        "25543e4ddea14608a91aaf50115ba015": {
          "model_module": "@jupyter-widgets/controls",
          "model_name": "FloatProgressModel",
          "model_module_version": "1.5.0",
          "state": {
            "_dom_classes": [],
            "_model_module": "@jupyter-widgets/controls",
            "_model_module_version": "1.5.0",
            "_model_name": "FloatProgressModel",
            "_view_count": null,
            "_view_module": "@jupyter-widgets/controls",
            "_view_module_version": "1.5.0",
            "_view_name": "ProgressView",
            "bar_style": "success",
            "description": "",
            "description_tooltip": null,
            "layout": "IPY_MODEL_16282ba756f14423ac67b95be50bcf4a",
            "max": 3512,
            "min": 0,
            "orientation": "horizontal",
            "style": "IPY_MODEL_38d359a35f324b05b1c335e3e3b8e510",
            "value": 3512
          }
        },
        "a7d0f2a109774afdbb6e3872c2782163": {
          "model_module": "@jupyter-widgets/controls",
          "model_name": "HTMLModel",
          "model_module_version": "1.5.0",
          "state": {
            "_dom_classes": [],
            "_model_module": "@jupyter-widgets/controls",
            "_model_module_version": "1.5.0",
            "_model_name": "HTMLModel",
            "_view_count": null,
            "_view_module": "@jupyter-widgets/controls",
            "_view_module_version": "1.5.0",
            "_view_name": "HTMLView",
            "description": "",
            "description_tooltip": null,
            "layout": "IPY_MODEL_621ef9c43e334933a1a23a646aa4fd42",
            "placeholder": "​",
            "style": "IPY_MODEL_3f317e5786af41918a2cbcd33c3499c9",
            "value": " 3512/3512 [00:00&lt;00:00, 32365.04 examples/s]"
          }
        },
        "331b8d661fd5488689fd04588e9c35b9": {
          "model_module": "@jupyter-widgets/base",
          "model_name": "LayoutModel",
          "model_module_version": "1.2.0",
          "state": {
            "_model_module": "@jupyter-widgets/base",
            "_model_module_version": "1.2.0",
            "_model_name": "LayoutModel",
            "_view_count": null,
            "_view_module": "@jupyter-widgets/base",
            "_view_module_version": "1.2.0",
            "_view_name": "LayoutView",
            "align_content": null,
            "align_items": null,
            "align_self": null,
            "border": null,
            "bottom": null,
            "display": null,
            "flex": null,
            "flex_flow": null,
            "grid_area": null,
            "grid_auto_columns": null,
            "grid_auto_flow": null,
            "grid_auto_rows": null,
            "grid_column": null,
            "grid_gap": null,
            "grid_row": null,
            "grid_template_areas": null,
            "grid_template_columns": null,
            "grid_template_rows": null,
            "height": null,
            "justify_content": null,
            "justify_items": null,
            "left": null,
            "margin": null,
            "max_height": null,
            "max_width": null,
            "min_height": null,
            "min_width": null,
            "object_fit": null,
            "object_position": null,
            "order": null,
            "overflow": null,
            "overflow_x": null,
            "overflow_y": null,
            "padding": null,
            "right": null,
            "top": null,
            "visibility": null,
            "width": null
          }
        },
        "921c28d39d3b4b4b80238093e5062ab8": {
          "model_module": "@jupyter-widgets/base",
          "model_name": "LayoutModel",
          "model_module_version": "1.2.0",
          "state": {
            "_model_module": "@jupyter-widgets/base",
            "_model_module_version": "1.2.0",
            "_model_name": "LayoutModel",
            "_view_count": null,
            "_view_module": "@jupyter-widgets/base",
            "_view_module_version": "1.2.0",
            "_view_name": "LayoutView",
            "align_content": null,
            "align_items": null,
            "align_self": null,
            "border": null,
            "bottom": null,
            "display": null,
            "flex": null,
            "flex_flow": null,
            "grid_area": null,
            "grid_auto_columns": null,
            "grid_auto_flow": null,
            "grid_auto_rows": null,
            "grid_column": null,
            "grid_gap": null,
            "grid_row": null,
            "grid_template_areas": null,
            "grid_template_columns": null,
            "grid_template_rows": null,
            "height": null,
            "justify_content": null,
            "justify_items": null,
            "left": null,
            "margin": null,
            "max_height": null,
            "max_width": null,
            "min_height": null,
            "min_width": null,
            "object_fit": null,
            "object_position": null,
            "order": null,
            "overflow": null,
            "overflow_x": null,
            "overflow_y": null,
            "padding": null,
            "right": null,
            "top": null,
            "visibility": null,
            "width": null
          }
        },
        "d862df97c8844573a21ab3e61f72cccf": {
          "model_module": "@jupyter-widgets/controls",
          "model_name": "DescriptionStyleModel",
          "model_module_version": "1.5.0",
          "state": {
            "_model_module": "@jupyter-widgets/controls",
            "_model_module_version": "1.5.0",
            "_model_name": "DescriptionStyleModel",
            "_view_count": null,
            "_view_module": "@jupyter-widgets/base",
            "_view_module_version": "1.2.0",
            "_view_name": "StyleView",
            "description_width": ""
          }
        },
        "16282ba756f14423ac67b95be50bcf4a": {
          "model_module": "@jupyter-widgets/base",
          "model_name": "LayoutModel",
          "model_module_version": "1.2.0",
          "state": {
            "_model_module": "@jupyter-widgets/base",
            "_model_module_version": "1.2.0",
            "_model_name": "LayoutModel",
            "_view_count": null,
            "_view_module": "@jupyter-widgets/base",
            "_view_module_version": "1.2.0",
            "_view_name": "LayoutView",
            "align_content": null,
            "align_items": null,
            "align_self": null,
            "border": null,
            "bottom": null,
            "display": null,
            "flex": null,
            "flex_flow": null,
            "grid_area": null,
            "grid_auto_columns": null,
            "grid_auto_flow": null,
            "grid_auto_rows": null,
            "grid_column": null,
            "grid_gap": null,
            "grid_row": null,
            "grid_template_areas": null,
            "grid_template_columns": null,
            "grid_template_rows": null,
            "height": null,
            "justify_content": null,
            "justify_items": null,
            "left": null,
            "margin": null,
            "max_height": null,
            "max_width": null,
            "min_height": null,
            "min_width": null,
            "object_fit": null,
            "object_position": null,
            "order": null,
            "overflow": null,
            "overflow_x": null,
            "overflow_y": null,
            "padding": null,
            "right": null,
            "top": null,
            "visibility": null,
            "width": null
          }
        },
        "38d359a35f324b05b1c335e3e3b8e510": {
          "model_module": "@jupyter-widgets/controls",
          "model_name": "ProgressStyleModel",
          "model_module_version": "1.5.0",
          "state": {
            "_model_module": "@jupyter-widgets/controls",
            "_model_module_version": "1.5.0",
            "_model_name": "ProgressStyleModel",
            "_view_count": null,
            "_view_module": "@jupyter-widgets/base",
            "_view_module_version": "1.2.0",
            "_view_name": "StyleView",
            "bar_color": null,
            "description_width": ""
          }
        },
        "621ef9c43e334933a1a23a646aa4fd42": {
          "model_module": "@jupyter-widgets/base",
          "model_name": "LayoutModel",
          "model_module_version": "1.2.0",
          "state": {
            "_model_module": "@jupyter-widgets/base",
            "_model_module_version": "1.2.0",
            "_model_name": "LayoutModel",
            "_view_count": null,
            "_view_module": "@jupyter-widgets/base",
            "_view_module_version": "1.2.0",
            "_view_name": "LayoutView",
            "align_content": null,
            "align_items": null,
            "align_self": null,
            "border": null,
            "bottom": null,
            "display": null,
            "flex": null,
            "flex_flow": null,
            "grid_area": null,
            "grid_auto_columns": null,
            "grid_auto_flow": null,
            "grid_auto_rows": null,
            "grid_column": null,
            "grid_gap": null,
            "grid_row": null,
            "grid_template_areas": null,
            "grid_template_columns": null,
            "grid_template_rows": null,
            "height": null,
            "justify_content": null,
            "justify_items": null,
            "left": null,
            "margin": null,
            "max_height": null,
            "max_width": null,
            "min_height": null,
            "min_width": null,
            "object_fit": null,
            "object_position": null,
            "order": null,
            "overflow": null,
            "overflow_x": null,
            "overflow_y": null,
            "padding": null,
            "right": null,
            "top": null,
            "visibility": null,
            "width": null
          }
        },
        "3f317e5786af41918a2cbcd33c3499c9": {
          "model_module": "@jupyter-widgets/controls",
          "model_name": "DescriptionStyleModel",
          "model_module_version": "1.5.0",
          "state": {
            "_model_module": "@jupyter-widgets/controls",
            "_model_module_version": "1.5.0",
            "_model_name": "DescriptionStyleModel",
            "_view_count": null,
            "_view_module": "@jupyter-widgets/base",
            "_view_module_version": "1.2.0",
            "_view_name": "StyleView",
            "description_width": ""
          }
        }
      }
    }
  },
  "cells": [
    {
      "cell_type": "markdown",
      "metadata": {
        "id": "view-in-github",
        "colab_type": "text"
      },
      "source": [
        "<a href=\"https://colab.research.google.com/github/JoanChege/chatbot/blob/main/hf_dataset_chabot.ipynb\" target=\"_parent\"><img src=\"https://colab.research.google.com/assets/colab-badge.svg\" alt=\"Open In Colab\"/></a>"
      ]
    },
    {
      "cell_type": "code",
      "execution_count": 1,
      "metadata": {
        "colab": {
          "base_uri": "https://localhost:8080/"
        },
        "id": "QfUsdvp4P62l",
        "outputId": "ba51ec1f-42c2-4130-ffd3-53fe5531c18a"
      },
      "outputs": [
        {
          "output_type": "stream",
          "name": "stdout",
          "text": [
            "Requirement already satisfied: pyyaml in /usr/local/lib/python3.10/dist-packages (6.0.1)\n",
            "Requirement already satisfied: nltk in /usr/local/lib/python3.10/dist-packages (3.8.1)\n",
            "Requirement already satisfied: click in /usr/local/lib/python3.10/dist-packages (from nltk) (8.1.7)\n",
            "Requirement already satisfied: joblib in /usr/local/lib/python3.10/dist-packages (from nltk) (1.4.2)\n",
            "Requirement already satisfied: regex>=2021.8.3 in /usr/local/lib/python3.10/dist-packages (from nltk) (2023.12.25)\n",
            "Requirement already satisfied: tqdm in /usr/local/lib/python3.10/dist-packages (from nltk) (4.66.4)\n",
            "Collecting datasets\n",
            "  Downloading datasets-2.19.1-py3-none-any.whl (542 kB)\n",
            "\u001b[2K     \u001b[90m━━━━━━━━━━━━━━━━━━━━━━━━━━━━━━━━━━━━━━━━\u001b[0m \u001b[32m542.0/542.0 kB\u001b[0m \u001b[31m4.5 MB/s\u001b[0m eta \u001b[36m0:00:00\u001b[0m\n",
            "\u001b[?25hRequirement already satisfied: filelock in /usr/local/lib/python3.10/dist-packages (from datasets) (3.14.0)\n",
            "Requirement already satisfied: numpy>=1.17 in /usr/local/lib/python3.10/dist-packages (from datasets) (1.25.2)\n",
            "Requirement already satisfied: pyarrow>=12.0.0 in /usr/local/lib/python3.10/dist-packages (from datasets) (14.0.2)\n",
            "Requirement already satisfied: pyarrow-hotfix in /usr/local/lib/python3.10/dist-packages (from datasets) (0.6)\n",
            "Collecting dill<0.3.9,>=0.3.0 (from datasets)\n",
            "  Downloading dill-0.3.8-py3-none-any.whl (116 kB)\n",
            "\u001b[2K     \u001b[90m━━━━━━━━━━━━━━━━━━━━━━━━━━━━━━━━━━━━━━━━\u001b[0m \u001b[32m116.3/116.3 kB\u001b[0m \u001b[31m11.2 MB/s\u001b[0m eta \u001b[36m0:00:00\u001b[0m\n",
            "\u001b[?25hRequirement already satisfied: pandas in /usr/local/lib/python3.10/dist-packages (from datasets) (2.0.3)\n",
            "Requirement already satisfied: requests>=2.19.0 in /usr/local/lib/python3.10/dist-packages (from datasets) (2.31.0)\n",
            "Requirement already satisfied: tqdm>=4.62.1 in /usr/local/lib/python3.10/dist-packages (from datasets) (4.66.4)\n",
            "Collecting xxhash (from datasets)\n",
            "  Downloading xxhash-3.4.1-cp310-cp310-manylinux_2_17_x86_64.manylinux2014_x86_64.whl (194 kB)\n",
            "\u001b[2K     \u001b[90m━━━━━━━━━━━━━━━━━━━━━━━━━━━━━━━━━━━━━━━━\u001b[0m \u001b[32m194.1/194.1 kB\u001b[0m \u001b[31m20.3 MB/s\u001b[0m eta \u001b[36m0:00:00\u001b[0m\n",
            "\u001b[?25hCollecting multiprocess (from datasets)\n",
            "  Downloading multiprocess-0.70.16-py310-none-any.whl (134 kB)\n",
            "\u001b[2K     \u001b[90m━━━━━━━━━━━━━━━━━━━━━━━━━━━━━━━━━━━━━━━━\u001b[0m \u001b[32m134.8/134.8 kB\u001b[0m \u001b[31m8.5 MB/s\u001b[0m eta \u001b[36m0:00:00\u001b[0m\n",
            "\u001b[?25hRequirement already satisfied: fsspec[http]<=2024.3.1,>=2023.1.0 in /usr/local/lib/python3.10/dist-packages (from datasets) (2023.6.0)\n",
            "Requirement already satisfied: aiohttp in /usr/local/lib/python3.10/dist-packages (from datasets) (3.9.5)\n",
            "Collecting huggingface-hub>=0.21.2 (from datasets)\n",
            "  Downloading huggingface_hub-0.23.0-py3-none-any.whl (401 kB)\n",
            "\u001b[2K     \u001b[90m━━━━━━━━━━━━━━━━━━━━━━━━━━━━━━━━━━━━━━━━\u001b[0m \u001b[32m401.2/401.2 kB\u001b[0m \u001b[31m9.9 MB/s\u001b[0m eta \u001b[36m0:00:00\u001b[0m\n",
            "\u001b[?25hRequirement already satisfied: packaging in /usr/local/lib/python3.10/dist-packages (from datasets) (24.0)\n",
            "Requirement already satisfied: pyyaml>=5.1 in /usr/local/lib/python3.10/dist-packages (from datasets) (6.0.1)\n",
            "Requirement already satisfied: aiosignal>=1.1.2 in /usr/local/lib/python3.10/dist-packages (from aiohttp->datasets) (1.3.1)\n",
            "Requirement already satisfied: attrs>=17.3.0 in /usr/local/lib/python3.10/dist-packages (from aiohttp->datasets) (23.2.0)\n",
            "Requirement already satisfied: frozenlist>=1.1.1 in /usr/local/lib/python3.10/dist-packages (from aiohttp->datasets) (1.4.1)\n",
            "Requirement already satisfied: multidict<7.0,>=4.5 in /usr/local/lib/python3.10/dist-packages (from aiohttp->datasets) (6.0.5)\n",
            "Requirement already satisfied: yarl<2.0,>=1.0 in /usr/local/lib/python3.10/dist-packages (from aiohttp->datasets) (1.9.4)\n",
            "Requirement already satisfied: async-timeout<5.0,>=4.0 in /usr/local/lib/python3.10/dist-packages (from aiohttp->datasets) (4.0.3)\n",
            "Requirement already satisfied: typing-extensions>=3.7.4.3 in /usr/local/lib/python3.10/dist-packages (from huggingface-hub>=0.21.2->datasets) (4.11.0)\n",
            "Requirement already satisfied: charset-normalizer<4,>=2 in /usr/local/lib/python3.10/dist-packages (from requests>=2.19.0->datasets) (3.3.2)\n",
            "Requirement already satisfied: idna<4,>=2.5 in /usr/local/lib/python3.10/dist-packages (from requests>=2.19.0->datasets) (3.7)\n",
            "Requirement already satisfied: urllib3<3,>=1.21.1 in /usr/local/lib/python3.10/dist-packages (from requests>=2.19.0->datasets) (2.0.7)\n",
            "Requirement already satisfied: certifi>=2017.4.17 in /usr/local/lib/python3.10/dist-packages (from requests>=2.19.0->datasets) (2024.2.2)\n",
            "Requirement already satisfied: python-dateutil>=2.8.2 in /usr/local/lib/python3.10/dist-packages (from pandas->datasets) (2.8.2)\n",
            "Requirement already satisfied: pytz>=2020.1 in /usr/local/lib/python3.10/dist-packages (from pandas->datasets) (2023.4)\n",
            "Requirement already satisfied: tzdata>=2022.1 in /usr/local/lib/python3.10/dist-packages (from pandas->datasets) (2024.1)\n",
            "Requirement already satisfied: six>=1.5 in /usr/local/lib/python3.10/dist-packages (from python-dateutil>=2.8.2->pandas->datasets) (1.16.0)\n",
            "Installing collected packages: xxhash, dill, multiprocess, huggingface-hub, datasets\n",
            "  Attempting uninstall: huggingface-hub\n",
            "    Found existing installation: huggingface-hub 0.20.3\n",
            "    Uninstalling huggingface-hub-0.20.3:\n",
            "      Successfully uninstalled huggingface-hub-0.20.3\n",
            "Successfully installed datasets-2.19.1 dill-0.3.8 huggingface-hub-0.23.0 multiprocess-0.70.16 xxhash-3.4.1\n"
          ]
        }
      ],
      "source": [
        "!pip install pyyaml\n",
        "!pip install nltk\n",
        "#!pip install chatterbot\n",
        "!pip install datasets\n",
        "\n"
      ]
    },
    {
      "cell_type": "code",
      "source": [
        "import nltk\n",
        "from nltk.corpus import stopwords\n",
        "from nltk.tokenize import word_tokenize\n",
        "\n",
        "nltk.download('stopwords')\n",
        "nltk.download('punkt')\n"
      ],
      "metadata": {
        "colab": {
          "base_uri": "https://localhost:8080/"
        },
        "id": "N5P5Xr12Qt8l",
        "outputId": "aa2006be-3866-4eca-87ed-5750aa52d4cb"
      },
      "execution_count": 3,
      "outputs": [
        {
          "output_type": "stream",
          "name": "stderr",
          "text": [
            "[nltk_data] Downloading package stopwords to /root/nltk_data...\n",
            "[nltk_data]   Unzipping corpora/stopwords.zip.\n",
            "[nltk_data] Downloading package punkt to /root/nltk_data...\n",
            "[nltk_data]   Unzipping tokenizers/punkt.zip.\n"
          ]
        },
        {
          "output_type": "execute_result",
          "data": {
            "text/plain": [
              "True"
            ]
          },
          "metadata": {},
          "execution_count": 3
        }
      ]
    },
    {
      "cell_type": "markdown",
      "source": [
        "LOAD THE DATASET"
      ],
      "metadata": {
        "id": "SgM1JC8PlQDf"
      }
    },
    {
      "cell_type": "code",
      "source": [
        "from datasets import load_dataset\n",
        "\n",
        "dataset = load_dataset('Amod/mental_health_counseling_conversations')\n"
      ],
      "metadata": {
        "colab": {
          "base_uri": "https://localhost:8080/",
          "height": 237,
          "referenced_widgets": [
            "5db0d899fd884a4185f944094b16e97a",
            "bde9eb13dbf342ad802f15e6657b006c",
            "04a01bd8fc5844b2ab826084009dc75a",
            "236daf7703454e06bbf49989ef5ff39d",
            "5d546fd08bf14bfc9d31d8883579afde",
            "7e003fd85f3647b6bfe8e4d00b5c7171",
            "15e094666dfc4b54b069ceef2bed197d",
            "80f91a89e2e948f1883ab4d17eb576dc",
            "06924c852f30488e8c08a7f0ccb470f1",
            "2d3fda47037b4b1e8898289c42cad811",
            "8d1eb2947d65499c9a780362f26dece3",
            "f9ad377daa974c99812b19e86a13bca7",
            "df27cd7db38246b8932704001430e0ec",
            "d0e5fd38ffad4ea299c22df287eb1ee0",
            "a2336aa98b4c420da21c2e8ffe837cca",
            "71d780f6b4d94fba9b96a602d14eddcf",
            "e1a681572121438690ede8a069ca813d",
            "9c8d64e845834ed6949539feafae0419",
            "16b7e4270c5a4a62b1c4666c8237e0ee",
            "64f6104999074aceaca2d7bff169aab3",
            "db2c13ac9eec46609bee266abd85a190",
            "1820135ea9cb4c87a8adea77e0b2bfd0",
            "e946bb9a2cd247d184a18e44ae4bfa90",
            "f1a78cf5bf3c4506bf8e38017bd494a1",
            "25543e4ddea14608a91aaf50115ba015",
            "a7d0f2a109774afdbb6e3872c2782163",
            "331b8d661fd5488689fd04588e9c35b9",
            "921c28d39d3b4b4b80238093e5062ab8",
            "d862df97c8844573a21ab3e61f72cccf",
            "16282ba756f14423ac67b95be50bcf4a",
            "38d359a35f324b05b1c335e3e3b8e510",
            "621ef9c43e334933a1a23a646aa4fd42",
            "3f317e5786af41918a2cbcd33c3499c9"
          ]
        },
        "id": "jGto_VLv4sVB",
        "outputId": "c8536a51-5d75-49f6-80de-1a7a1c0e8382"
      },
      "execution_count": 4,
      "outputs": [
        {
          "output_type": "stream",
          "name": "stderr",
          "text": [
            "/usr/local/lib/python3.10/dist-packages/huggingface_hub/utils/_token.py:89: UserWarning: \n",
            "The secret `HF_TOKEN` does not exist in your Colab secrets.\n",
            "To authenticate with the Hugging Face Hub, create a token in your settings tab (https://huggingface.co/settings/tokens), set it as secret in your Google Colab and restart your session.\n",
            "You will be able to reuse this secret in all of your notebooks.\n",
            "Please note that authentication is recommended but still optional to access public models or datasets.\n",
            "  warnings.warn(\n"
          ]
        },
        {
          "output_type": "display_data",
          "data": {
            "text/plain": [
              "Downloading readme:   0%|          | 0.00/2.82k [00:00<?, ?B/s]"
            ],
            "application/vnd.jupyter.widget-view+json": {
              "version_major": 2,
              "version_minor": 0,
              "model_id": "5db0d899fd884a4185f944094b16e97a"
            }
          },
          "metadata": {}
        },
        {
          "output_type": "display_data",
          "data": {
            "text/plain": [
              "Downloading data:   0%|          | 0.00/4.79M [00:00<?, ?B/s]"
            ],
            "application/vnd.jupyter.widget-view+json": {
              "version_major": 2,
              "version_minor": 0,
              "model_id": "f9ad377daa974c99812b19e86a13bca7"
            }
          },
          "metadata": {}
        },
        {
          "output_type": "display_data",
          "data": {
            "text/plain": [
              "Generating train split:   0%|          | 0/3512 [00:00<?, ? examples/s]"
            ],
            "application/vnd.jupyter.widget-view+json": {
              "version_major": 2,
              "version_minor": 0,
              "model_id": "e946bb9a2cd247d184a18e44ae4bfa90"
            }
          },
          "metadata": {}
        }
      ]
    },
    {
      "cell_type": "code",
      "source": [
        "import pandas as pd\n",
        "\n",
        "data_list = []\n",
        "for conversation in dataset['train']:\n",
        "    context = conversation['Context']\n",
        "    response = conversation['Response']\n",
        "    data_list.append({'context': context, 'responses': response})\n",
        "\n",
        "df = pd.DataFrame(data_list)\n",
        "print(df)\n"
      ],
      "metadata": {
        "colab": {
          "base_uri": "https://localhost:8080/"
        },
        "id": "79ynuaxlSc3t",
        "outputId": "3ec9d8a5-9405-48b8-f8f1-cdc75829607c"
      },
      "execution_count": 19,
      "outputs": [
        {
          "output_type": "stream",
          "name": "stdout",
          "text": [
            "                                                context  \\\n",
            "0     I'm going through some things with my feelings...   \n",
            "1     I'm going through some things with my feelings...   \n",
            "2     I'm going through some things with my feelings...   \n",
            "3     I'm going through some things with my feelings...   \n",
            "4     I'm going through some things with my feelings...   \n",
            "...                                                 ...   \n",
            "3507  My grandson's step-mother sends him to school ...   \n",
            "3508  My boyfriend is in recovery from drug addictio...   \n",
            "3509  The birth mother attempted suicide several tim...   \n",
            "3510  I think adult life is making him depressed and...   \n",
            "3511  I just took a job that requires me to travel f...   \n",
            "\n",
            "                                              responses  \n",
            "0     If everyone thinks you're worthless, then mayb...  \n",
            "1     Hello, and thank you for your question and see...  \n",
            "2     First thing I'd suggest is getting the sleep y...  \n",
            "3     Therapy is essential for those that are feelin...  \n",
            "4     I first want to let you know that you are not ...  \n",
            "...                                                 ...  \n",
            "3507  Absolutely not! It is never in a child's best ...  \n",
            "3508  I'm sorry you have tension between you and you...  \n",
            "3509  The true answer is, \"no one can really say wit...  \n",
            "3510  How do you help yourself to believe you requir...  \n",
            "3511                           hmm this is a tough one!  \n",
            "\n",
            "[3512 rows x 2 columns]\n"
          ]
        }
      ]
    },
    {
      "cell_type": "markdown",
      "source": [
        "CLEAN THE DATASET"
      ],
      "metadata": {
        "id": "bpHGS_tklTIo"
      }
    },
    {
      "cell_type": "code",
      "source": [
        "# Lowercase for case-insensitive cleaning\n",
        "df['context'] = df['context'].str.lower()\n",
        "df['responses'] = df['responses'].str.lower()\n",
        "\n",
        "# Remove punctuation using a regular expression\n",
        "import re\n",
        "punc_pattern = r'[^\\w\\s]'  # Matches any character that's not alphanumeric or whitespace\n",
        "df['context'] = df['context'].str.replace(punc_pattern, '', regex=True)\n",
        "df['responses'] = df['responses'].str.replace(punc_pattern, '', regex=True)\n",
        "\n",
        "# Remove extra spaces with regular expression\n",
        "whitespace_pattern = r'\\s+'  # Matches one or more whitespace characters\n",
        "df['context'] = df['context'].str.replace(whitespace_pattern, ' ', regex=True)\n",
        "df['responses'] = df['responses'].str.replace(whitespace_pattern, ' ', regex=True)\n",
        "\n",
        "# Optional: Remove stopwords (common words like \"the\", \"a\", \"an\")\n",
        "from nltk.corpus import stopwords  # Import stopwords library\n",
        "stop_words = stopwords.words('english')\n",
        "\n",
        "def remove_stopwords(text):\n",
        "  return [word for word in text.split() if word not in stop_words]\n",
        "\n",
        "df['context'] = df['context'].apply(remove_stopwords)\n",
        "df['responses'] = df['responses'].apply(remove_stopwords)\n",
        "\n",
        "print(df)\n"
      ],
      "metadata": {
        "colab": {
          "base_uri": "https://localhost:8080/"
        },
        "collapsed": true,
        "id": "SbmmCnqoTANr",
        "outputId": "6005734e-902b-46d4-ccdf-43a289bb2055"
      },
      "execution_count": 32,
      "outputs": [
        {
          "output_type": "stream",
          "name": "stdout",
          "text": [
            "                                                context  \\\n",
            "0     [im, going, things, feelings, barely, sleep, n...   \n",
            "1     [im, going, things, feelings, barely, sleep, n...   \n",
            "2     [im, going, things, feelings, barely, sleep, n...   \n",
            "3     [im, going, things, feelings, barely, sleep, n...   \n",
            "4     [im, going, things, feelings, barely, sleep, n...   \n",
            "...                                                 ...   \n",
            "3507  [grandsons, stepmother, sends, school, pink, b...   \n",
            "3508  [boyfriend, recovery, drug, addiction, recentl...   \n",
            "3509  [birth, mother, attempted, suicide, several, t...   \n",
            "3510  [think, adult, life, making, depressed, often,...   \n",
            "3511  [took, job, requires, travel, far, away, home,...   \n",
            "\n",
            "                                              responses  \n",
            "0     [everyone, thinks, youre, worthless, maybe, ne...  \n",
            "1     [hello, thank, question, seeking, advice, feel...  \n",
            "2     [first, thing, id, suggest, getting, sleep, ne...  \n",
            "3     [therapy, essential, feeling, depressed, worth...  \n",
            "4     [first, want, let, know, alone, feelings, alwa...  \n",
            "...                                                 ...  \n",
            "3507  [absolutely, never, childs, best, interest, us...  \n",
            "3508  [im, sorry, tension, bfa, relationship, means,...  \n",
            "3509  [true, answer, one, really, say, certaintythe,...  \n",
            "3510  [help, believe, require, offers, youwhat, get,...  \n",
            "3511                                  [hmm, tough, one]  \n",
            "\n",
            "[3512 rows x 2 columns]\n"
          ]
        }
      ]
    },
    {
      "cell_type": "markdown",
      "source": [
        "FEATURE EXTRACTION AND BASIC ENGINEERING"
      ],
      "metadata": {
        "id": "OqkGzpqilW80"
      }
    },
    {
      "cell_type": "code",
      "source": [
        "from nltk.util import ngrams\n",
        "from nltk import pos_tag\n",
        "nltk.download('averaged_perceptron_tagger')"
      ],
      "metadata": {
        "id": "wwPgBYDzjHJ7",
        "colab": {
          "base_uri": "https://localhost:8080/"
        },
        "outputId": "b684b033-e451-4125-bd57-dc8611ae0ad3"
      },
      "execution_count": 33,
      "outputs": [
        {
          "output_type": "stream",
          "name": "stderr",
          "text": [
            "[nltk_data] Downloading package averaged_perceptron_tagger to\n",
            "[nltk_data]     /root/nltk_data...\n",
            "[nltk_data]   Unzipping taggers/averaged_perceptron_tagger.zip.\n"
          ]
        },
        {
          "output_type": "execute_result",
          "data": {
            "text/plain": [
              "True"
            ]
          },
          "metadata": {},
          "execution_count": 33
        }
      ]
    },
    {
      "cell_type": "code",
      "source": [
        "#extract features from the cleaned data\n",
        "def extract_features(cleaned_convos):\n",
        "  featured_data=[]\n",
        "  for conv in cleaned_convos:\n",
        "      category = conv['category']\n",
        "      conversation = conv['conversation']\n",
        "      features = []\n",
        "      for utterance in conversation:\n",
        "        word_tokens = utterance.split()  # tokenization was already done in clean_data\n",
        "\n",
        "        # Feature Extraction with N-grams and POS tags\n",
        "        bigrams = ngrams(word_tokens, 2)  # Extract bigrams (2-word sequences)\n",
        "        pos_tags = pos_tag(word_tokens)  # Get POS tags for each word\n",
        "\n",
        "        # Add features based on extracted data\n",
        "        features.extend(bigrams)\n",
        "        features.extend(pos_tags)\n",
        "\n",
        "        #basic feature engineering\n",
        "        features.append(len(word_tokens)) #word count in the utterance\n",
        "        features.append(sum(len(word) for word in word_tokens) / len(word_tokens))\n",
        "\n",
        "      featured_data.append({\n",
        "          'category': category,\n",
        "          'conversation': conversation,\n",
        "          'features': features\n",
        "      })\n",
        "  return featured_data\n",
        "data_features = extract_features(cleaned_data)\n",
        "cleaned_features_df = pd.DataFrame(data_features)\n",
        "print(cleaned_features_df)\n"
      ],
      "metadata": {
        "colab": {
          "base_uri": "https://localhost:8080/"
        },
        "id": "qQI3ea0blxMY",
        "outputId": "6011ab90-aa91-489d-838f-c398597c348b",
        "collapsed": true
      },
      "execution_count": null,
      "outputs": [
        {
          "output_type": "stream",
          "name": "stdout",
          "text": [
            "      category                                       conversation  \\\n",
            "0   depression  [depression, depression common serious medical...   \n",
            "1   depression  [feel let parents, matter whatyour parents alw...   \n",
            "2   depression  [types depression, many different forms depres...   \n",
            "3   depression  [good nothing, dont ever think achieve want, c...   \n",
            "4   depression  [feeling stressed lately, research says music ...   \n",
            "5   depression  [want kill, helpline availableyou contact coun...   \n",
            "6   depression  [afraid fail, failure stepping stone towards s...   \n",
            "7   depression  [depression, depression mood disorder causes p...   \n",
            "8   depression  [causes depression, complicated multiple cause...   \n",
            "9   depression  [top causes depression, abuse past physical se...   \n",
            "10  depression  [age group highest rate depression, number rep...   \n",
            "11  depression  [country highest rate depression, depressed co...   \n",
            "12  depression  [country lowest rate depression, depressed cou...   \n",
            "13  depression  [school cause depression, school sometimes con...   \n",
            "14  depression  [biological cause depression, single cause dep...   \n",
            "15  depression  [depression affect world, depression leading c...   \n",
            "16  depression  [race highest rate depression, major depressio...   \n",
            "17  depression  [meaning anxiety depression, depression anxiet...   \n",
            "18  depression  [oversleeping cause depression, important reme...   \n",
            "19  depression  [lack sleep make feel sad, studies show people...   \n",
            "20  depression  [depression side effect diabetes, diabetes — e...   \n",
            "21  depression  [low blood sugar cause suicidal thoughts, obse...   \n",
            "22  depression  [long anxiety last, anxiety attacks usually pe...   \n",
            "23  depression  [stages anxiety, anxiety levels typically clas...   \n",
            "24  depression  [age anxiety peak, adults ages 30 44 highest r...   \n",
            "25  depression  [anxiety bad, anxiety disorders cause rapid he...   \n",
            "26  depression  [3 3 3 rule anxiety, theres anxietyreducing te...   \n",
            "27  depression  [control thoughts, aware tiny fraction thinkin...   \n",
            "28  depression  [many thoughts day, new study suggested averag...   \n",
            "29  depression  [reduce anxiety, 3 3 3 rule best method reduce...   \n",
            "30  depression  [lonely, never lonely look around carefully fi...   \n",
            "31  depression  [one likes, really think id suggest try helpin...   \n",
            "32  depression  [think ugly, well really think would like see ...   \n",
            "33  depression  [good nothing, perception good never accurate ...   \n",
            "34  depression  [wish better, life never better anyone else al...   \n",
            "35  depression  [hate, god creating universe gave humans power...   \n",
            "36  depression  [wish couldve winner, lives started winning fr...   \n",
            "37  depression  [hate losing, first ill annoy common saying fa...   \n",
            "38  depression  [think im losing mind, mean cloud storage sd c...   \n",
            "39  depression  [want break, break putting mind rest getting r...   \n",
            "40  depression  [stressed, know taking much stress affect nega...   \n",
            "41  depression  [never succeed life, success something achieve...   \n",
            "42  depression  [sad, heyhang therei know time tough patient e...   \n",
            "43  depression  [victim bullying, bullying wrong one bullied, ...   \n",
            "44  depression  [afraid file case bullying, bullying wrong sho...   \n",
            "45  depression  [wish quit, winners never quit quitters never ...   \n",
            "46  depression  [want leave cou ntry run away, want spend much...   \n",
            "47  depression  [let everyojokne, one let one raised hopes fir...   \n",
            "48  depression  [cant anymore, really exhausted definitely nee...   \n",
            "49  depression  [time come, yeahh time come show world greates...   \n",
            "50  depression  [feeling anxious lately, heard 3 3 3 rule best...   \n",
            "\n",
            "                                             features  \n",
            "0   [(depression, NN), 1, 10.0, (depression, commo...  \n",
            "1   [(feel, let), (let, parents), (feel, VB), (let...  \n",
            "2   [(types, depression), (types, NNS), (depressio...  \n",
            "3   [(good, nothing), (good, JJ), (nothing, NN), 2...  \n",
            "4   [(feeling, stressed), (stressed, lately), (fee...  \n",
            "5   [(want, kill), (want, NN), (kill, NN), 2, 4.0,...  \n",
            "6   [(afraid, fail), (afraid, JJ), (fail, NN), 2, ...  \n",
            "7   [(depression, NN), 1, 10.0, (depression, mood)...  \n",
            "8   [(causes, depression), (causes, NNS), (depress...  \n",
            "9   [(top, causes), (causes, depression), (top, JJ...  \n",
            "10  [(age, group), (group, highest), (highest, rat...  \n",
            "11  [(country, highest), (highest, rate), (rate, d...  \n",
            "12  [(country, lowest), (lowest, rate), (rate, dep...  \n",
            "13  [(school, cause), (cause, depression), (school...  \n",
            "14  [(biological, cause), (cause, depression), (bi...  \n",
            "15  [(depression, affect), (affect, world), (depre...  \n",
            "16  [(race, highest), (highest, rate), (rate, depr...  \n",
            "17  [(meaning, anxiety), (anxiety, depression), (m...  \n",
            "18  [(oversleeping, cause), (cause, depression), (...  \n",
            "19  [(lack, sleep), (sleep, make), (make, feel), (...  \n",
            "20  [(depression, side), (side, effect), (effect, ...  \n",
            "21  [(low, blood), (blood, sugar), (sugar, cause),...  \n",
            "22  [(long, anxiety), (anxiety, last), (long, RB),...  \n",
            "23  [(stages, anxiety), (stages, NNS), (anxiety, N...  \n",
            "24  [(age, anxiety), (anxiety, peak), (age, NN), (...  \n",
            "25  [(anxiety, bad), (anxiety, NN), (bad, JJ), 2, ...  \n",
            "26  [(3, 3), (3, 3), (3, rule), (rule, anxiety), (...  \n",
            "27  [(control, thoughts), (control, NN), (thoughts...  \n",
            "28  [(many, thoughts), (thoughts, day), (many, JJ)...  \n",
            "29  [(reduce, anxiety), (reduce, VB), (anxiety, NN...  \n",
            "30  [(lonely, RB), 1, 6.0, (never, lonely), (lonel...  \n",
            "31  [(one, likes), (one, CD), (likes, NNS), 2, 4.0...  \n",
            "32  [(think, ugly), (think, NN), (ugly, RB), 2, 4....  \n",
            "33  [(good, nothing), (good, JJ), (nothing, NN), 2...  \n",
            "34  [(wish, better), (wish, JJ), (better, JJR), 2,...  \n",
            "35  [(hate, NN), 1, 4.0, (god, creating), (creatin...  \n",
            "36  [(wish, couldve), (couldve, winner), (wish, JJ...  \n",
            "37  [(hate, losing), (hate, NN), (losing, NN), 2, ...  \n",
            "38  [(think, im), (im, losing), (losing, mind), (t...  \n",
            "39  [(want, break), (want, JJ), (break, NN), 2, 4....  \n",
            "40  [(stressed, VBN), 1, 8.0, (know, taking), (tak...  \n",
            "41  [(never, succeed), (succeed, life), (never, RB...  \n",
            "42  [(sad, NN), 1, 3.0, (heyhang, therei), (therei...  \n",
            "43  [(victim, bullying), (victim, NN), (bullying, ...  \n",
            "44  [(afraid, file), (file, case), (case, bullying...  \n",
            "45  [(wish, quit), (wish, JJ), (quit, NN), 2, 4.0,...  \n",
            "46  [(want, leave), (leave, cou), (cou, ntry), (nt...  \n",
            "47  [(let, everyojokne), (let, VB), (everyojokne, ...  \n",
            "48  [(cant, anymore), (cant, NN), (anymore, NN), 2...  \n",
            "49  [(time, come), (time, NN), (come, VB), 2, 4.0,...  \n",
            "50  [(feeling, anxious), (anxious, lately), (feeli...  \n"
          ]
        }
      ]
    },
    {
      "cell_type": "code",
      "source": [
        "from sklearn.feature_extraction.text import TfidfVectorizer\n",
        "\n",
        "# Convert conversations to text data\n",
        "text_data = [' '.join(conv) for conv in cleaned_features_df['conversation']]\n",
        "\n",
        "# Initialize TF-IDF vectorizer\n",
        "tfidf_vectorizer = TfidfVectorizer()\n",
        "\n",
        "# Convert text data to TF-IDF vectors\n",
        "X_tfidf = tfidf_vectorizer.fit_transform(text_data)\n",
        "\n",
        "# Print the shape of the TF-IDF matrix\n",
        "print(\"TF-IDF matrix shape:\", X_tfidf.shape)"
      ],
      "metadata": {
        "colab": {
          "base_uri": "https://localhost:8080/"
        },
        "id": "64MtLkM_QZTT",
        "outputId": "0d790188-6dc0-42cc-af74-b16e8829c426"
      },
      "execution_count": null,
      "outputs": [
        {
          "output_type": "stream",
          "name": "stdout",
          "text": [
            "TF-IDF matrix shape: (51, 619)\n"
          ]
        }
      ]
    },
    {
      "cell_type": "markdown",
      "source": [
        "CLUSTERING- KMEANS\n"
      ],
      "metadata": {
        "id": "zICbrfN7agh8"
      }
    },
    {
      "cell_type": "code",
      "source": [
        "from sklearn.cluster import KMeans\n",
        "\n",
        "# Specify the number of clusters\n",
        "num_clusters = 5  # Adjust as needed\n",
        "\n",
        "# Apply K-Means clustering\n",
        "kmeans = KMeans(n_clusters=num_clusters, n_init=10)\n",
        "kmeans.fit(X_tfidf)\n",
        "\n",
        "# Get cluster labels\n",
        "cluster_labels = kmeans.labels_\n",
        "\n",
        "# Add cluster labels to the DataFrame\n",
        "cleaned_features_df['cluster'] = cluster_labels\n",
        "\n",
        "# Print the first few rows of the DataFrame with cluster labels\n",
        "print(cleaned_features_df.head())\n"
      ],
      "metadata": {
        "colab": {
          "base_uri": "https://localhost:8080/"
        },
        "id": "-7yOHDLzXHS5",
        "outputId": "45504bb6-6842-4c02-920a-d08225efa99d"
      },
      "execution_count": null,
      "outputs": [
        {
          "output_type": "stream",
          "name": "stdout",
          "text": [
            "     category                                       conversation  \\\n",
            "0  depression  [depression, depression common serious medical...   \n",
            "1  depression  [feel let parents, matter whatyour parents alw...   \n",
            "2  depression  [types depression, many different forms depres...   \n",
            "3  depression  [good nothing, dont ever think achieve want, c...   \n",
            "4  depression  [feeling stressed lately, research says music ...   \n",
            "\n",
            "                                            features  cluster  \n",
            "0  [(depression, NN), 1, 10.0, (depression, commo...        2  \n",
            "1  [(feel, let), (let, parents), (feel, VB), (let...        3  \n",
            "2  [(types, depression), (types, NNS), (depressio...        2  \n",
            "3  [(good, nothing), (good, JJ), (nothing, NN), 2...        0  \n",
            "4  [(feeling, stressed), (stressed, lately), (fee...        3  \n"
          ]
        }
      ]
    },
    {
      "cell_type": "code",
      "source": [],
      "metadata": {
        "id": "IPvhuo1PaOCh"
      },
      "execution_count": null,
      "outputs": []
    }
  ]
}